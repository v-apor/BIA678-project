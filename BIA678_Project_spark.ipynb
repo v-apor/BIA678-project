{
  "cells": [
    {
      "cell_type": "code",
      "execution_count": null,
      "metadata": {
        "colab": {
          "base_uri": "https://localhost:8080/"
        },
        "id": "p5uU2BGcVnug",
        "outputId": "39d328bd-8b20-4f98-ebce-6f612b50b6cb"
      },
      "outputs": [
        {
          "name": "stdout",
          "output_type": "stream",
          "text": [
            "Looking in indexes: https://pypi.org/simple, https://us-python.pkg.dev/colab-wheels/public/simple/\n",
            "Requirement already satisfied: pyspark in /usr/local/lib/python3.8/dist-packages (3.3.1)\n",
            "Requirement already satisfied: py4j==0.10.9.5 in /usr/local/lib/python3.8/dist-packages (from pyspark) (0.10.9.5)\n"
          ]
        }
      ],
      "source": [
        "!pip install pyspark"
      ]
    },
    {
      "cell_type": "markdown",
      "metadata": {
        "id": "LwdQr867YzQl"
      },
      "source": [
        "### Libraries"
      ]
    },
    {
      "cell_type": "code",
      "execution_count": null,
      "metadata": {
        "id": "8mkq-ruKYXTc"
      },
      "outputs": [],
      "source": [
        "from pyspark import SparkContext\n",
        "from pyspark.sql import SparkSession\n",
        "from pyspark.sql import SQLContext\n",
        "\n",
        "# For Encoding\n",
        "from pyspark.ml.feature import VectorAssembler, StringIndexer\n",
        "from pyspark.ml.feature import OneHotEncoder\n",
        "from pyspark.ml import Pipeline\n",
        "\n",
        "# Boosting\n",
        "from pyspark.ml.regression import GBTRegressor\n",
        "\n",
        "# Evaluation\n",
        "from pyspark.ml.evaluation import RegressionEvaluator \n",
        "\n",
        "# Visualization\n",
        "import matplotlib.pyplot as plt\n",
        "import seaborn as sns\n",
        "from scipy import stats"
      ]
    },
    {
      "cell_type": "markdown",
      "metadata": {
        "id": "hb6SIAPVaTLY"
      },
      "source": [
        "### Initializing Spark"
      ]
    },
    {
      "cell_type": "code",
      "execution_count": null,
      "metadata": {
        "colab": {
          "base_uri": "https://localhost:8080/",
          "height": 222
        },
        "id": "7Y5tqp2JaSUI",
        "outputId": "ec302b71-1d69-4049-f735-632eecaac6fc"
      },
      "outputs": [
        {
          "ename": "ValueError",
          "evalue": "ignored",
          "output_type": "error",
          "traceback": [
            "\u001b[0;31m---------------------------------------------------------------------------\u001b[0m",
            "\u001b[0;31mValueError\u001b[0m                                Traceback (most recent call last)",
            "\u001b[0;32m<ipython-input-36-e4de03d2d3e3>\u001b[0m in \u001b[0;36m<module>\u001b[0;34m\u001b[0m\n\u001b[0;32m----> 1\u001b[0;31m \u001b[0mspark_context\u001b[0m \u001b[0;34m=\u001b[0m \u001b[0mSparkContext\u001b[0m\u001b[0;34m(\u001b[0m\u001b[0mappName\u001b[0m\u001b[0;34m=\u001b[0m\u001b[0;34m\"BIA678_D3\"\u001b[0m\u001b[0;34m)\u001b[0m\u001b[0;34m\u001b[0m\u001b[0;34m\u001b[0m\u001b[0m\n\u001b[0m\u001b[1;32m      2\u001b[0m \u001b[0mspark_context\u001b[0m\u001b[0;34m\u001b[0m\u001b[0;34m\u001b[0m\u001b[0m\n",
            "\u001b[0;32m/usr/local/lib/python3.8/dist-packages/pyspark/context.py\u001b[0m in \u001b[0;36m__init__\u001b[0;34m(self, master, appName, sparkHome, pyFiles, environment, batchSize, serializer, conf, gateway, jsc, profiler_cls, udf_profiler_cls)\u001b[0m\n\u001b[1;32m    193\u001b[0m             )\n\u001b[1;32m    194\u001b[0m \u001b[0;34m\u001b[0m\u001b[0m\n\u001b[0;32m--> 195\u001b[0;31m         \u001b[0mSparkContext\u001b[0m\u001b[0;34m.\u001b[0m\u001b[0m_ensure_initialized\u001b[0m\u001b[0;34m(\u001b[0m\u001b[0mself\u001b[0m\u001b[0;34m,\u001b[0m \u001b[0mgateway\u001b[0m\u001b[0;34m=\u001b[0m\u001b[0mgateway\u001b[0m\u001b[0;34m,\u001b[0m \u001b[0mconf\u001b[0m\u001b[0;34m=\u001b[0m\u001b[0mconf\u001b[0m\u001b[0;34m)\u001b[0m\u001b[0;34m\u001b[0m\u001b[0;34m\u001b[0m\u001b[0m\n\u001b[0m\u001b[1;32m    196\u001b[0m         \u001b[0;32mtry\u001b[0m\u001b[0;34m:\u001b[0m\u001b[0;34m\u001b[0m\u001b[0;34m\u001b[0m\u001b[0m\n\u001b[1;32m    197\u001b[0m             self._do_init(\n",
            "\u001b[0;32m/usr/local/lib/python3.8/dist-packages/pyspark/context.py\u001b[0m in \u001b[0;36m_ensure_initialized\u001b[0;34m(cls, instance, gateway, conf)\u001b[0m\n\u001b[1;32m    428\u001b[0m \u001b[0;34m\u001b[0m\u001b[0m\n\u001b[1;32m    429\u001b[0m                     \u001b[0;31m# Raise error if there is already a running Spark context\u001b[0m\u001b[0;34m\u001b[0m\u001b[0;34m\u001b[0m\u001b[0;34m\u001b[0m\u001b[0m\n\u001b[0;32m--> 430\u001b[0;31m                     raise ValueError(\n\u001b[0m\u001b[1;32m    431\u001b[0m                         \u001b[0;34m\"Cannot run multiple SparkContexts at once; \"\u001b[0m\u001b[0;34m\u001b[0m\u001b[0;34m\u001b[0m\u001b[0m\n\u001b[1;32m    432\u001b[0m                         \u001b[0;34m\"existing SparkContext(app=%s, master=%s)\"\u001b[0m\u001b[0;34m\u001b[0m\u001b[0;34m\u001b[0m\u001b[0m\n",
            "\u001b[0;31mValueError\u001b[0m: Cannot run multiple SparkContexts at once; existing SparkContext(app=BIA678_D3, master=local[*]) created by __init__ at <ipython-input-3-e4de03d2d3e3>:1 "
          ]
        }
      ],
      "source": [
        "spark_context = SparkContext(appName=\"BIA678_D3\")\n",
        "spark_context"
      ]
    },
    {
      "cell_type": "code",
      "execution_count": null,
      "metadata": {
        "colab": {
          "base_uri": "https://localhost:8080/",
          "height": 216
        },
        "id": "Tc1YKHpOax6G",
        "outputId": "10a1a390-204e-41b8-b97a-007a5a3df368"
      },
      "outputs": [
        {
          "data": {
            "text/html": [
              "\n",
              "            <div>\n",
              "                <p><b>SparkSession - in-memory</b></p>\n",
              "                \n",
              "        <div>\n",
              "            <p><b>SparkContext</b></p>\n",
              "\n",
              "            <p><a href=\"http://0b583ea24be6:4040\">Spark UI</a></p>\n",
              "\n",
              "            <dl>\n",
              "              <dt>Version</dt>\n",
              "                <dd><code>v3.3.1</code></dd>\n",
              "              <dt>Master</dt>\n",
              "                <dd><code>local[*]</code></dd>\n",
              "              <dt>AppName</dt>\n",
              "                <dd><code>BIA678_D3</code></dd>\n",
              "            </dl>\n",
              "        </div>\n",
              "        \n",
              "            </div>\n",
              "        "
            ],
            "text/plain": [
              "<pyspark.sql.session.SparkSession at 0x7fae10421610>"
            ]
          },
          "execution_count": 37,
          "metadata": {},
          "output_type": "execute_result"
        }
      ],
      "source": [
        "spark_session = SparkSession(spark_context)\n",
        "spark_session"
      ]
    },
    {
      "cell_type": "code",
      "execution_count": null,
      "metadata": {
        "colab": {
          "base_uri": "https://localhost:8080/"
        },
        "id": "UJw1OL0_chT-",
        "outputId": "a69fc35b-474e-41e3-9e9f-fe16b0150386"
      },
      "outputs": [
        {
          "name": "stderr",
          "output_type": "stream",
          "text": [
            "/usr/local/lib/python3.8/dist-packages/pyspark/sql/context.py:112: FutureWarning: Deprecated in 3.0.0. Use SparkSession.builder.getOrCreate() instead.\n",
            "  warnings.warn(\n"
          ]
        },
        {
          "data": {
            "text/plain": [
              "<pyspark.sql.context.SQLContext at 0x7fae10436730>"
            ]
          },
          "execution_count": 38,
          "metadata": {},
          "output_type": "execute_result"
        }
      ],
      "source": [
        "sql_context = SQLContext(spark_session.sparkContext)\n",
        "sql_context"
      ]
    },
    {
      "cell_type": "markdown",
      "metadata": {
        "id": "EzFiPqgMdj7L"
      },
      "source": [
        "### Loading Datasets"
      ]
    },
    {
      "cell_type": "code",
      "execution_count": null,
      "metadata": {
        "colab": {
          "base_uri": "https://localhost:8080/"
        },
        "id": "Ps4rXUmedVdx",
        "outputId": "1812bb3a-b286-44d1-844a-2c14f642f99c"
      },
      "outputs": [
        {
          "name": "stdout",
          "output_type": "stream",
          "text": [
            "+----------------+---------+--------------+-----------+---------+--------+---------------+-------------------+\n",
            "|           jobId|companyId|       jobType|     degree|    major|industry|yearsExperience|milesFromMetropolis|\n",
            "+----------------+---------+--------------+-----------+---------+--------+---------------+-------------------+\n",
            "|JOB1362684407687|   COMP37|           CFO|    MASTERS|     MATH|  HEALTH|             10|                 83|\n",
            "|JOB1362684407688|   COMP19|           CEO|HIGH_SCHOOL|     NONE|     WEB|              3|                 73|\n",
            "|JOB1362684407689|   COMP52|VICE_PRESIDENT|   DOCTORAL|  PHYSICS|  HEALTH|             10|                 38|\n",
            "|JOB1362684407690|   COMP38|       MANAGER|   DOCTORAL|CHEMISTRY|    AUTO|              8|                 17|\n",
            "|JOB1362684407691|    COMP7|VICE_PRESIDENT|  BACHELORS|  PHYSICS| FINANCE|              8|                 16|\n",
            "+----------------+---------+--------------+-----------+---------+--------+---------------+-------------------+\n",
            "only showing top 5 rows\n",
            "\n",
            "root\n",
            " |-- jobId: string (nullable = true)\n",
            " |-- companyId: string (nullable = true)\n",
            " |-- jobType: string (nullable = true)\n",
            " |-- degree: string (nullable = true)\n",
            " |-- major: string (nullable = true)\n",
            " |-- industry: string (nullable = true)\n",
            " |-- yearsExperience: string (nullable = true)\n",
            " |-- milesFromMetropolis: string (nullable = true)\n",
            "\n"
          ]
        }
      ],
      "source": [
        "data_details = spark_session.read.csv(\"train_dataset.csv\", header=True)\n",
        "data_details.show(5)\n",
        "data_details.printSchema()"
      ]
    },
    {
      "cell_type": "code",
      "execution_count": null,
      "metadata": {
        "colab": {
          "base_uri": "https://localhost:8080/"
        },
        "id": "h0sWUbNVeHyD",
        "outputId": "16d896c2-e3b0-4e16-9d6b-1379315922b4"
      },
      "outputs": [
        {
          "name": "stdout",
          "output_type": "stream",
          "text": [
            "+----------------+------+\n",
            "|           jobId|salary|\n",
            "+----------------+------+\n",
            "|JOB1362684407687|   130|\n",
            "|JOB1362684407688|   101|\n",
            "|JOB1362684407689|   137|\n",
            "|JOB1362684407690|   142|\n",
            "|JOB1362684407691|   163|\n",
            "+----------------+------+\n",
            "only showing top 5 rows\n",
            "\n",
            "root\n",
            " |-- jobId: string (nullable = true)\n",
            " |-- salary: string (nullable = true)\n",
            "\n"
          ]
        }
      ],
      "source": [
        "data_salaries = spark_session.read.csv(\"train_salaries.csv\", header=True)\n",
        "data_salaries.show(5)\n",
        "data_salaries.printSchema()"
      ]
    },
    {
      "cell_type": "code",
      "execution_count": null,
      "metadata": {
        "colab": {
          "base_uri": "https://localhost:8080/"
        },
        "id": "rBTlMfZDfN91",
        "outputId": "d4d39230-43bc-4c85-f2aa-dd4d4f89f2c6"
      },
      "outputs": [
        {
          "name": "stdout",
          "output_type": "stream",
          "text": [
            "root\n",
            " |-- jobId: string (nullable = true)\n",
            " |-- salary: integer (nullable = true)\n",
            "\n",
            "root\n",
            " |-- jobId: string (nullable = true)\n",
            " |-- companyId: string (nullable = true)\n",
            " |-- jobType: string (nullable = true)\n",
            " |-- degree: string (nullable = true)\n",
            " |-- major: string (nullable = true)\n",
            " |-- industry: string (nullable = true)\n",
            " |-- yearsExperience: integer (nullable = true)\n",
            " |-- milesFromMetropolis: integer (nullable = true)\n",
            "\n"
          ]
        }
      ],
      "source": [
        "# As seen in the schema above, the columne: 'salary' from data_salaries, \n",
        "# 'yearsExperience' and 'milesFromMetropolis' from data_details are string.\n",
        "# These columns must be casted to numeric datatype\n",
        "\n",
        "data_salaries = data_salaries.withColumn(\"salary\", data_salaries.salary.cast('int'))\n",
        "data_salaries.printSchema()\n",
        "\n",
        "data_details = data_details.withColumn(\"yearsExperience\",data_details.yearsExperience.cast('int'))\n",
        "data_details = data_details.withColumn(\"milesFromMetropolis\",data_details.milesFromMetropolis.cast('int'))\n",
        "data_details.printSchema()"
      ]
    },
    {
      "cell_type": "markdown",
      "metadata": {
        "id": "tn0e7VrspmOs"
      },
      "source": [
        "### Merging the two pyspark dataframes"
      ]
    },
    {
      "cell_type": "code",
      "execution_count": null,
      "metadata": {
        "colab": {
          "base_uri": "https://localhost:8080/"
        },
        "id": "X7EBcIQ9n6F6",
        "outputId": "af335e6e-bc86-488e-fe65-a8235500c57e"
      },
      "outputs": [
        {
          "name": "stdout",
          "output_type": "stream",
          "text": [
            "Data Details Dataframe columns:  ['jobId', 'companyId', 'jobType', 'degree', 'major', 'industry', 'yearsExperience', 'milesFromMetropolis']\n",
            "Data Salaries Dataframe columns:  ['jobId', 'salary']\n"
          ]
        }
      ],
      "source": [
        "print(\"Data Details Dataframe columns: \", data_details.columns)\n",
        "print(\"Data Salaries Dataframe columns: \", data_salaries.columns)"
      ]
    },
    {
      "cell_type": "code",
      "execution_count": null,
      "metadata": {
        "id": "aWiVv3q5puh8"
      },
      "outputs": [],
      "source": [
        "data = data_details.join(data_salaries, ['jobId'])"
      ]
    },
    {
      "cell_type": "code",
      "execution_count": null,
      "metadata": {
        "colab": {
          "base_uri": "https://localhost:8080/"
        },
        "id": "s1o2j77GssMV",
        "outputId": "a956125c-f3a5-4df1-b74f-68d152a314db"
      },
      "outputs": [
        {
          "name": "stdout",
          "output_type": "stream",
          "text": [
            "+----------------+---------+-------+-----------+---------+---------+---------------+-------------------+------+\n",
            "|           jobId|companyId|jobType|     degree|    major| industry|yearsExperience|milesFromMetropolis|salary|\n",
            "+----------------+---------+-------+-----------+---------+---------+---------------+-------------------+------+\n",
            "|JOB1362684407687|   COMP37|    CFO|    MASTERS|     MATH|   HEALTH|             10|                 83|   130|\n",
            "|JOB1362684407688|   COMP19|    CEO|HIGH_SCHOOL|     NONE|      WEB|              3|                 73|   101|\n",
            "|JOB1362684407690|   COMP38|MANAGER|   DOCTORAL|CHEMISTRY|     AUTO|              8|                 17|   142|\n",
            "|JOB1362684407693|   COMP15|    CFO|       NONE|     NONE|   HEALTH|             23|                 24|   178|\n",
            "|JOB1362684407694|   COMP24| JUNIOR|  BACHELORS|CHEMISTRY|EDUCATION|              9|                 70|    73|\n",
            "+----------------+---------+-------+-----------+---------+---------+---------------+-------------------+------+\n",
            "only showing top 5 rows\n",
            "\n"
          ]
        }
      ],
      "source": [
        "data.show(5)"
      ]
    },
    {
      "cell_type": "markdown",
      "metadata": {
        "id": "iP9YtaSAtd8P"
      },
      "source": [
        "### Managing missing values"
      ]
    },
    {
      "cell_type": "code",
      "execution_count": null,
      "metadata": {
        "colab": {
          "base_uri": "https://localhost:8080/"
        },
        "id": "4NQWCk1vs4rd",
        "outputId": "0ee2a932-035f-41cd-ec2d-4bb2b8cd9724"
      },
      "outputs": [
        {
          "name": "stdout",
          "output_type": "stream",
          "text": [
            "jobId column's total 'NONE' values:  0\n",
            "companyId column's total 'NONE' values:  0\n",
            "jobType column's total 'NONE' values:  0\n",
            "degree column's total 'NONE' values:  236854\n",
            "major column's total 'NONE' values:  532355\n",
            "industry column's total 'NONE' values:  0\n",
            "yearsExperience column's total 'NONE' values:  0\n",
            "milesFromMetropolis column's total 'NONE' values:  0\n",
            "salary column's total 'NONE' values:  0\n"
          ]
        }
      ],
      "source": [
        "# As noticed, there are some 'NONE' values in the degree and major columns.\n",
        "for column in data.columns:\n",
        "  print(f\"{column} column's total 'NONE' values: \", data.filter(data[column]=='NONE').count())"
      ]
    },
    {
      "cell_type": "markdown",
      "metadata": {
        "id": "flL1ACjD5UJ3"
      },
      "source": [
        "### Managing Duplicate values"
      ]
    },
    {
      "cell_type": "code",
      "execution_count": null,
      "metadata": {
        "colab": {
          "base_uri": "https://localhost:8080/"
        },
        "id": "68y99Z1t5aY6",
        "outputId": "21c708f5-a1af-485b-88a7-5e39e1cc9d52"
      },
      "outputs": [
        {
          "name": "stdout",
          "output_type": "stream",
          "text": [
            "+---------------+-------------------+---------+-------+------+-----+--------+-----+\n",
            "|yearsExperience|milesFromMetropolis|companyId|jobType|degree|major|industry|jobId|\n",
            "+---------------+-------------------+---------+-------+------+-----+--------+-----+\n",
            "+---------------+-------------------+---------+-------+------+-----+--------+-----+\n",
            "\n"
          ]
        }
      ],
      "source": [
        "# No duplicate values\n",
        "duplicates=data.groupBy(\"yearsExperience\", \"milesFromMetropolis\",\"companyId\",\"jobType\", \"degree\", \"major\", \"industry\", \"jobId\").count().filter(\"count > 1\")\n",
        "duplicates.drop('count').show()"
      ]
    },
    {
      "cell_type": "markdown",
      "metadata": {
        "id": "XhrDMhjE1MHc"
      },
      "source": [
        "### Dataset Insights"
      ]
    },
    {
      "cell_type": "code",
      "execution_count": null,
      "metadata": {
        "id": "ZZqn-hJg1zLG"
      },
      "outputs": [],
      "source": [
        "# Creating SparkSQL view to perform SQL queries.\n",
        "data.createOrReplaceTempView(\"data\")"
      ]
    },
    {
      "cell_type": "markdown",
      "metadata": {
        "id": "wgpWNA821XQI"
      },
      "source": [
        "#### 1. Highest Paid Job"
      ]
    },
    {
      "cell_type": "code",
      "execution_count": null,
      "metadata": {
        "colab": {
          "base_uri": "https://localhost:8080/"
        },
        "id": "Gwcq_k5s03qr",
        "outputId": "ca12233a-2404-45e5-d895-d98dcfa46e21"
      },
      "outputs": [
        {
          "name": "stdout",
          "output_type": "stream",
          "text": [
            "+------+-------+\n",
            "|salary|jobtype|\n",
            "+------+-------+\n",
            "|   301|    CFO|\n",
            "|   301|    CTO|\n",
            "+------+-------+\n",
            "\n"
          ]
        }
      ],
      "source": [
        "data1 = spark_session.sql('''\n",
        "    SELECT salary, jobtype\n",
        "    FROM data\n",
        "    WHERE salary == (SELECT MAX(salary) FROM data)''')\n",
        "data1.show()"
      ]
    },
    {
      "cell_type": "markdown",
      "metadata": {
        "id": "LKJao2lJ2bAr"
      },
      "source": [
        "The highset paid job is for the position of CFO and CTO, having salary of $301,000 per year."
      ]
    },
    {
      "cell_type": "markdown",
      "metadata": {
        "id": "n6tkRmrh3F9-"
      },
      "source": [
        "#### 2. Top 10 Highest Paying Jobs"
      ]
    },
    {
      "cell_type": "code",
      "execution_count": null,
      "metadata": {
        "colab": {
          "base_uri": "https://localhost:8080/"
        },
        "id": "U927DHrX2ODz",
        "outputId": "538de4e6-0c73-4c92-9021-0fe0fff30c84"
      },
      "outputs": [
        {
          "name": "stdout",
          "output_type": "stream",
          "text": [
            "Top 10 Highest paying job:\n",
            "\n",
            "+------+-------+--------+\n",
            "|salary|jobtype|industry|\n",
            "+------+-------+--------+\n",
            "|   301|    CFO|     OIL|\n",
            "|   301|    CTO|     OIL|\n",
            "|   298|    CEO|     OIL|\n",
            "|   294|    CEO| FINANCE|\n",
            "|   294|    CEO|     OIL|\n",
            "|   293|    CEO| FINANCE|\n",
            "|   293|    CEO|     OIL|\n",
            "|   292|    CEO| FINANCE|\n",
            "|   292|    CTO| FINANCE|\n",
            "|   290|    CEO|     WEB|\n",
            "+------+-------+--------+\n",
            "\n"
          ]
        }
      ],
      "source": [
        "data2 = spark_session.sql('''\n",
        "          SELECT salary, jobtype, industry\n",
        "          FROM data\n",
        "          ORDER BY salary DESC\n",
        "          LIMIT 10''')\n",
        "\n",
        "print(\"Top 10 Highest paying job:\\n\")\n",
        "data2.show()"
      ]
    },
    {
      "cell_type": "markdown",
      "metadata": {
        "id": "LlC_GNbrAo7y"
      },
      "source": [
        "#### 3. Top 10 Lowest Paying Jobs"
      ]
    },
    {
      "cell_type": "code",
      "execution_count": null,
      "metadata": {
        "colab": {
          "base_uri": "https://localhost:8080/"
        },
        "id": "WboU-K8S3kxV",
        "outputId": "3da8b2e9-0c3d-4e36-c31d-a15e51b7819a"
      },
      "outputs": [
        {
          "name": "stdout",
          "output_type": "stream",
          "text": [
            "Top 10 Least paying job:\n",
            "\n",
            "+------+--------------+---------+------+\n",
            "|salary|       jobtype| industry|salary|\n",
            "+------+--------------+---------+------+\n",
            "|     0|        JUNIOR|     AUTO|     0|\n",
            "|     0|        JUNIOR|      OIL|     0|\n",
            "|     0|VICE_PRESIDENT|      WEB|     0|\n",
            "|     0|           CTO|     AUTO|     0|\n",
            "|     0|       MANAGER|  FINANCE|     0|\n",
            "|    17|       JANITOR|EDUCATION|    17|\n",
            "|    18|       JANITOR|EDUCATION|    18|\n",
            "|    18|       JANITOR|EDUCATION|    18|\n",
            "|    18|       JANITOR|EDUCATION|    18|\n",
            "|    19|       JANITOR|EDUCATION|    19|\n",
            "+------+--------------+---------+------+\n",
            "\n"
          ]
        }
      ],
      "source": [
        "data3 = spark_session.sql('''\n",
        "          SELECT salary, jobtype, industry, salary\n",
        "          FROM data\n",
        "          ORDER BY salary ASC\n",
        "          LIMIT 10''')\n",
        "\n",
        "print(\"Top 10 Least paying job:\\n\")\n",
        "data3.show()"
      ]
    },
    {
      "cell_type": "code",
      "execution_count": null,
      "metadata": {
        "id": "eHmar5zGSE_g"
      },
      "outputs": [],
      "source": [
        "# There are values in salary column that are zero, removing those.\n",
        "data = data.where(\"salary != 0\")\n",
        "data.createOrReplaceTempView(\"data\")"
      ]
    },
    {
      "cell_type": "code",
      "execution_count": null,
      "metadata": {
        "colab": {
          "base_uri": "https://localhost:8080/"
        },
        "id": "DdrOy1IdSMDN",
        "outputId": "2a806371-f0c5-45f2-81ef-41ddf046e08b"
      },
      "outputs": [
        {
          "name": "stdout",
          "output_type": "stream",
          "text": [
            "Top 10 Least paying job:\n",
            "\n",
            "+------+-------+---------+------+\n",
            "|salary|jobtype| industry|salary|\n",
            "+------+-------+---------+------+\n",
            "|    17|JANITOR|EDUCATION|    17|\n",
            "|    18|JANITOR|EDUCATION|    18|\n",
            "|    18|JANITOR|EDUCATION|    18|\n",
            "|    18|JANITOR|EDUCATION|    18|\n",
            "|    19|JANITOR|EDUCATION|    19|\n",
            "|    19|JANITOR|EDUCATION|    19|\n",
            "|    19|JANITOR|EDUCATION|    19|\n",
            "|    19|JANITOR|EDUCATION|    19|\n",
            "|    19|JANITOR|EDUCATION|    19|\n",
            "|    19|JANITOR|EDUCATION|    19|\n",
            "+------+-------+---------+------+\n",
            "\n"
          ]
        }
      ],
      "source": [
        "data3 = spark_session.sql('''\n",
        "          SELECT salary, jobtype, industry, salary\n",
        "          FROM data\n",
        "          ORDER BY salary ASC\n",
        "          LIMIT 10''')\n",
        "\n",
        "print(\"Top 10 Least paying job:\\n\")\n",
        "data3.show()"
      ]
    },
    {
      "cell_type": "markdown",
      "metadata": {
        "id": "OCS4BAEr6tY-"
      },
      "source": [
        "#### 4. Ranking industries based on highest average salaries."
      ]
    },
    {
      "cell_type": "code",
      "execution_count": null,
      "metadata": {
        "colab": {
          "base_uri": "https://localhost:8080/"
        },
        "id": "6EmV-Qgg54xx",
        "outputId": "15de21a2-4cb5-4474-f881-dda8eeb2d3d6"
      },
      "outputs": [
        {
          "name": "stdout",
          "output_type": "stream",
          "text": [
            "+---------+------------------+\n",
            "| industry|    average_salary|\n",
            "+---------+------------------+\n",
            "|      OIL|130.95386285634237|\n",
            "|  FINANCE|  130.747658645164|\n",
            "|      WEB| 121.6453615446388|\n",
            "|   HEALTH| 115.7355399110364|\n",
            "|     AUTO|109.43522152496485|\n",
            "|  SERVICE|104.44682029458984|\n",
            "|EDUCATION| 99.44838571898697|\n",
            "+---------+------------------+\n",
            "\n"
          ]
        }
      ],
      "source": [
        "data4 = spark_session.sql('''\n",
        "          SELECT industry, AVG(salary) as average_salary\n",
        "          FROM data\n",
        "          GROUP BY industry\n",
        "          ORDER BY average_salary DESC''')\n",
        "data4.show()"
      ]
    },
    {
      "cell_type": "code",
      "execution_count": null,
      "metadata": {
        "colab": {
          "base_uri": "https://localhost:8080/",
          "height": 268
        },
        "id": "11xaqIZmSdIy",
        "outputId": "6cc49f78-1bf1-460e-e04f-d4b770582369"
      },
      "outputs": [
        {
          "data": {
            "image/png": "[encoded data removed]",
            "text/plain": [
              "<Figure size 432x252 with 1 Axes>"
            ]
          },
          "metadata": {},
          "output_type": "display_data"
        }
      ],
      "source": [
        "data4 = data4.toPandas()\n",
        "plt.figure(figsize=(6,3.5))\n",
        "sns.barplot(y='industry', x = 'average_salary', data=data4, palette='viridis')\n",
        "plt.title('Average salary by Industry')\n",
        "plt.xlabel('Salary (k$)')\n",
        "plt.show()"
      ]
    },
    {
      "cell_type": "markdown",
      "metadata": {
        "id": "QQ2PD2K27fcs"
      },
      "source": [
        "#### 5. Finding corelation between years of experience and salary."
      ]
    },
    {
      "cell_type": "code",
      "execution_count": null,
      "metadata": {
        "colab": {
          "base_uri": "https://localhost:8080/"
        },
        "id": "xw_Sea0S7Ik1",
        "outputId": "e0ce1bbf-eda6-480d-bc65-e0891e5ff104"
      },
      "outputs": [
        {
          "name": "stdout",
          "output_type": "stream",
          "text": [
            "+------+-------+--------+---------------+\n",
            "|salary|jobtype|industry|yearsExperience|\n",
            "+------+-------+--------+---------------+\n",
            "|   301|    CFO|     OIL|             23|\n",
            "|   301|    CTO|     OIL|             24|\n",
            "|   298|    CEO|     OIL|             22|\n",
            "|   294|    CEO| FINANCE|             24|\n",
            "|   294|    CEO|     OIL|             19|\n",
            "|   293|    CEO|     OIL|             24|\n",
            "|   293|    CEO| FINANCE|             16|\n",
            "|   292|    CEO| FINANCE|             22|\n",
            "|   292|    CTO| FINANCE|             24|\n",
            "|   290|    CEO|     WEB|             20|\n",
            "|   289|    CTO|     WEB|             24|\n",
            "|   289|    CFO|     OIL|             23|\n",
            "|   289|    CEO| FINANCE|             23|\n",
            "|   288|    CFO| FINANCE|             24|\n",
            "|   288|    CFO| FINANCE|             21|\n",
            "|   287|    CEO| FINANCE|             19|\n",
            "|   287|    CEO|     OIL|             22|\n",
            "|   286|    CEO| FINANCE|             24|\n",
            "|   286|    CTO| FINANCE|             24|\n",
            "|   286|    CEO|     OIL|             16|\n",
            "+------+-------+--------+---------------+\n",
            "only showing top 20 rows\n",
            "\n"
          ]
        }
      ],
      "source": [
        "data5 = spark_session.sql('''\n",
        "    SELECT salary, jobtype, industry, yearsExperience\n",
        "    FROM data\n",
        "    ORDER BY salary DESC\n",
        "    ''')\n",
        "data5.show()"
      ]
    },
    {
      "cell_type": "code",
      "execution_count": null,
      "metadata": {
        "colab": {
          "base_uri": "https://localhost:8080/"
        },
        "id": "fHqSwObFTI-q",
        "outputId": "525619f2-640c-4a55-d61d-604426cb9cc5"
      },
      "outputs": [
        {
          "name": "stdout",
          "output_type": "stream",
          "text": [
            "+--------------+------+\n",
            "|       jobtype| count|\n",
            "+--------------+------+\n",
            "|           CTO|125045|\n",
            "|        JUNIOR|124592|\n",
            "|       JANITOR|124971|\n",
            "|           CFO|124369|\n",
            "|           CEO|124778|\n",
            "|       MANAGER|125120|\n",
            "|VICE_PRESIDENT|125234|\n",
            "|        SENIOR|125886|\n",
            "+--------------+------+\n",
            "\n"
          ]
        }
      ],
      "source": [
        "data5.groupBy('jobtype').count().show()"
      ]
    },
    {
      "cell_type": "code",
      "execution_count": null,
      "metadata": {
        "id": "w-CtyeizTUSL"
      },
      "outputs": [],
      "source": [
        "titles = [\"CTO\", \"JUNIOR\", \"JANITOR\", \"CFO\", \"CEO\", \"MANAGER\", \"VICE_PRESIDENT\", \"SENIOR\"]\n",
        "data5 = data5.toPandas()"
      ]
    },
    {
      "cell_type": "code",
      "execution_count": null,
      "metadata": {
        "colab": {
          "base_uri": "https://localhost:8080/",
          "height": 1000
        },
        "id": "T6xvWp0PUQCg",
        "outputId": "10726796-06f5-4f1c-f4e8-5c8430198b06"
      },
      "outputs": [
        {
          "data": {
            "image/png": "[encoded data removed]",
            "text/plain": [
              "<Figure size 576x144 with 1 Axes>"
            ]
          },
          "metadata": {},
          "output_type": "display_data"
        },
        {
          "data": {
            "image/png": "[encoded data removed]",
            "text/plain": [
              "<Figure size 576x144 with 1 Axes>"
            ]
          },
          "metadata": {},
          "output_type": "display_data"
        },
        {
          "data": {
            "image/png": "[encoded data removed]",
            "text/plain": [
              "<Figure size 576x144 with 1 Axes>"
            ]
          },
          "metadata": {},
          "output_type": "display_data"
        },
        {
          "data": {
            "image/png": "[encoded data removed]",
            "text/plain": [
              "<Figure size 576x144 with 1 Axes>"
            ]
          },
          "metadata": {},
          "output_type": "display_data"
        },
        {
          "data": {
            "image/png": "[encoded data removed]",
            "text/plain": [
              "<Figure size 576x144 with 1 Axes>"
            ]
          },
          "metadata": {},
          "output_type": "display_data"
        },
        {
          "data": {
            "image/png": "[encoded data removed]",
            "text/plain": [
              "<Figure size 576x144 with 1 Axes>"
            ]
          },
          "metadata": {},
          "output_type": "display_data"
        },
        {
          "data": {
            "image/png": "[encoded data removed]",
            "text/plain": [
              "<Figure size 576x144 with 1 Axes>"
            ]
          },
          "metadata": {},
          "output_type": "display_data"
        },
        {
          "data": {
            "image/png": "[encoded data removed]",
            "text/plain": [
              "<Figure size 576x144 with 1 Axes>"
            ]
          },
          "metadata": {},
          "output_type": "display_data"
        }
      ],
      "source": [
        "slope_list = []  #to save the slopes of the regression lines\n",
        "intercept_list = [] #to save the intercepts of the regression lines\n",
        "\n",
        "for title in titles:\n",
        "    df_x = data5.loc[data5['jobtype']==title]\n",
        "    slope, intercept, r_value, p_value, std_err = stats.linregress(df_x['yearsExperience'],df_x['salary'])\n",
        "    slope_list.append(slope)\n",
        "    intercept_list.append(intercept)\n",
        "    plt.figure(figsize=(8,2))\n",
        "    sns.regplot(x='yearsExperience', y = 'salary', data=df_x, color='#0d98ba', line_kws={'label':\"y={0:.1f}x+{1:.1f}\".format(slope,intercept)})\n",
        "    plt.legend()\n",
        "    plt.title('Salary by years of experience for ' + title)\n",
        "    plt.show()"
      ]
    },
    {
      "cell_type": "markdown",
      "metadata": {
        "id": "QnBrrEn_8bqG"
      },
      "source": [
        "#### 6. Finding corelation between degree and salary. | NEEDS GRAPH"
      ]
    },
    {
      "cell_type": "code",
      "execution_count": null,
      "metadata": {
        "colab": {
          "base_uri": "https://localhost:8080/"
        },
        "id": "U7DOsp-C8h9W",
        "outputId": "bdd3a67b-196a-4516-c3c1-cedd0c168a2e"
      },
      "outputs": [
        {
          "name": "stdout",
          "output_type": "stream",
          "text": [
            "+-----------+------+-------+\n",
            "|     degree|salary|jobtype|\n",
            "+-----------+------+-------+\n",
            "|       NONE|    17|JANITOR|\n",
            "|HIGH_SCHOOL|    18|JANITOR|\n",
            "|HIGH_SCHOOL|    18|JANITOR|\n",
            "|       NONE|    18|JANITOR|\n",
            "|       NONE|    19|JANITOR|\n",
            "|HIGH_SCHOOL|    19|JANITOR|\n",
            "|       NONE|    19|JANITOR|\n",
            "|       NONE|    19|JANITOR|\n",
            "|HIGH_SCHOOL|    19|JANITOR|\n",
            "|       NONE|    19|JANITOR|\n",
            "+-----------+------+-------+\n",
            "only showing top 10 rows\n",
            "\n"
          ]
        }
      ],
      "source": [
        "data6a = spark_session.sql('''\n",
        "                  SELECT degree, salary, jobtype\n",
        "                  FROM data\n",
        "                  ORDER BY salary\n",
        "                  ''')\n",
        "\n",
        "data6a.show(10)"
      ]
    },
    {
      "cell_type": "code",
      "execution_count": null,
      "metadata": {
        "colab": {
          "base_uri": "https://localhost:8080/"
        },
        "id": "qjjEPCmZgSiv",
        "outputId": "adda3f57-083d-4b88-a28e-6aad560c12f0"
      },
      "outputs": [
        {
          "name": "stdout",
          "output_type": "stream",
          "text": [
            "+---------+------+-------+\n",
            "|   degree|salary|jobtype|\n",
            "+---------+------+-------+\n",
            "|  MASTERS|   301|    CTO|\n",
            "| DOCTORAL|   301|    CFO|\n",
            "|  MASTERS|   298|    CEO|\n",
            "| DOCTORAL|   294|    CEO|\n",
            "|BACHELORS|   294|    CEO|\n",
            "| DOCTORAL|   293|    CEO|\n",
            "| DOCTORAL|   293|    CEO|\n",
            "|  MASTERS|   292|    CTO|\n",
            "|BACHELORS|   292|    CEO|\n",
            "| DOCTORAL|   290|    CEO|\n",
            "+---------+------+-------+\n",
            "only showing top 10 rows\n",
            "\n"
          ]
        }
      ],
      "source": [
        "data6b = spark_session.sql('''\n",
        "                  SELECT degree, salary, jobtype\n",
        "                  FROM data\n",
        "                  ORDER BY salary desc\n",
        "                  ''')\n",
        "data6b.show(10)"
      ]
    },
    {
      "cell_type": "markdown",
      "metadata": {
        "id": "55LTv6ZDAAtx"
      },
      "source": [
        "#### 7. Finding corelation between major and salary. | NEEDS GRAPH"
      ]
    },
    {
      "cell_type": "code",
      "execution_count": null,
      "metadata": {
        "id": "htR3377F8oHv"
      },
      "outputs": [],
      "source": [
        "# ADD CODE HERE"
      ]
    },
    {
      "cell_type": "code",
      "execution_count": null,
      "metadata": {
        "id": "UbLNURVbAb-p"
      },
      "outputs": [],
      "source": []
    },
    {
      "cell_type": "markdown",
      "metadata": {
        "id": "1WAC1_gPA7e3"
      },
      "source": [
        "### Predicting Salaries | ML"
      ]
    },
    {
      "cell_type": "code",
      "execution_count": null,
      "metadata": {
        "id": "FR84FSYyBHZx"
      },
      "outputs": [],
      "source": [
        "data = data.drop('jobId')"
      ]
    },
    {
      "cell_type": "code",
      "execution_count": null,
      "metadata": {
        "id": "LlZcebP4Bj2y"
      },
      "outputs": [],
      "source": [
        "columns = data.columns"
      ]
    },
    {
      "cell_type": "code",
      "execution_count": null,
      "metadata": {
        "id": "hdOWKdQyBtRU"
      },
      "outputs": [],
      "source": [
        "# Encoding labels for columns representing class.\n",
        "class_columns = [\"companyId\",\"jobType\", \"degree\", \"major\", \"industry\"]\n",
        "stages = []\n",
        "for categoricalCol in class_columns:\n",
        "    stringIndexer = StringIndexer(inputCol = categoricalCol, outputCol = categoricalCol + 'Index')\n",
        "    stages += [stringIndexer]\n",
        "numericCols =  [\"yearsExperience\", \"milesFromMetropolis\"]\n",
        "assemblerInputs = [c + \"Index\" for c in class_columns] + numericCols\n",
        "assembler = VectorAssembler(inputCols=assemblerInputs, outputCol=\"features\")\n",
        "stages += [assembler]"
      ]
    },
    {
      "cell_type": "code",
      "execution_count": null,
      "metadata": {
        "id": "z-UoiJ6pB_zH"
      },
      "outputs": [],
      "source": [
        "stages = []\n",
        "stringIndexer = StringIndexer(inputCol = \"degree\", outputCol = \"degreeIndex\")\n",
        "stages += [stringIndexer]"
      ]
    },
    {
      "cell_type": "code",
      "execution_count": null,
      "metadata": {
        "id": "IIJEej7IC4uO"
      },
      "outputs": [],
      "source": [
        "# One Hot Encoding\n",
        "class_columns = [\"companyId\",\"jobType\", \"major\", \"industry\"]\n",
        "for categoricalCol in class_columns:\n",
        "    stringIndexer = StringIndexer(inputCol = categoricalCol, outputCol = categoricalCol + 'Index')\n",
        "    encoder = OneHotEncoder(inputCols=[stringIndexer.getOutputCol()], outputCols=[categoricalCol + \"classVec\"])\n",
        "    stages += [stringIndexer, encoder]\n",
        "numericCols =  [\"yearsExperience\", \"milesFromMetropolis\"]\n",
        "assemblerInputs = [c + \"classVec\" for c in class_columns] + numericCols + [\"degreeIndex\"]\n",
        "assembler = VectorAssembler(inputCols=assemblerInputs, outputCol=\"features\")\n",
        "stages += [assembler]"
      ]
    },
    {
      "cell_type": "code",
      "execution_count": null,
      "metadata": {
        "id": "vz9TzcSJDNu-"
      },
      "outputs": [],
      "source": [
        "pipeline = Pipeline(stages = stages)\n",
        "pipelineModel = pipeline.fit(data)\n",
        "data = pipelineModel.transform(data)\n",
        "selectedCols = ['features'] + columns\n",
        "data = data.select(selectedCols)"
      ]
    },
    {
      "cell_type": "code",
      "execution_count": null,
      "metadata": {
        "colab": {
          "base_uri": "https://localhost:8080/"
        },
        "id": "PRKRkEYaDcjz",
        "outputId": "5373ad9d-400f-47bb-8e7b-4be3ac4a7667"
      },
      "outputs": [
        {
          "name": "stdout",
          "output_type": "stream",
          "text": [
            "+--------------------+---------+-------+-------+-----+--------+---------------+-------------------+------+\n",
            "|            features|companyId|jobType| degree|major|industry|yearsExperience|milesFromMetropolis|salary|\n",
            "+--------------------+---------+-------+-------+-----+--------+---------------+-------------------+------+\n",
            "|(86,[29,82,83,84,...|   COMP37|    CFO|MASTERS| MATH|  HEALTH|             10|                 83|   130|\n",
            "+--------------------+---------+-------+-------+-----+--------+---------------+-------------------+------+\n",
            "only showing top 1 row\n",
            "\n"
          ]
        }
      ],
      "source": [
        "data.show(1)"
      ]
    },
    {
      "cell_type": "code",
      "execution_count": null,
      "metadata": {
        "id": "FJBp6L5gEQLE"
      },
      "outputs": [],
      "source": [
        "# Splitting data into training and testing sets\n",
        "train, test = data.randomSplit([0.95, 0.05])"
      ]
    },
    {
      "cell_type": "code",
      "execution_count": null,
      "metadata": {
        "id": "K4yzC_SnFuLb"
      },
      "outputs": [],
      "source": [
        "# Boosting\n",
        "gbt =  GBTRegressor(featuresCol=\"features\", labelCol=\"salary\", maxBins=20, maxDepth=12)"
      ]
    },
    {
      "cell_type": "code",
      "execution_count": null,
      "metadata": {
        "colab": {
          "background_save": true
        },
        "id": "jjM3BUpVGAsu"
      },
      "outputs": [],
      "source": [
        "model = gbt.fit(train)"
      ]
    },
    {
      "cell_type": "code",
      "execution_count": null,
      "metadata": {
        "colab": {
          "background_save": true
        },
        "id": "tuC1JbUEGH4c"
      },
      "outputs": [],
      "source": [
        "predicted_salary = model.transform(test)"
      ]
    },
    {
      "cell_type": "code",
      "execution_count": null,
      "metadata": {
        "colab": {
          "background_save": true
        },
        "id": "zyLLKUOlHFOx",
        "outputId": "0b8e0ed8-675d-4222-dabb-027f0302dfb5"
      },
      "outputs": [
        {
          "data": {
            "text/plain": [
              "19.076659297829558"
            ]
          },
          "execution_count": 40,
          "metadata": {},
          "output_type": "execute_result"
        }
      ],
      "source": [
        "# Evaluation Root Mean Squared\n",
        "evaluator = RegressionEvaluator(labelCol=\"salary\", predictionCol=\"prediction\", metricName=\"rmse\")\n",
        "rmse = evaluator.evaluate(predicted_salary)\n",
        "rmse"
      ]
    },
    {
      "cell_type": "code",
      "execution_count": null,
      "metadata": {
        "colab": {
          "background_save": true
        },
        "id": "MQXRj3Z2IkSw",
        "outputId": "124cde7d-49c2-4de6-a4b5-6d9dda9be838"
      },
      "outputs": [
        {
          "data": {
            "text/plain": [
              "0.7521418165574165"
            ]
          },
          "execution_count": 41,
          "metadata": {},
          "output_type": "execute_result"
        }
      ],
      "source": [
        "# Evaluation R squared\n",
        "evaluator = RegressionEvaluator(labelCol=\"salary\", predictionCol=\"prediction\", metricName=\"r2\")\n",
        "r2 = evaluator.evaluate(predicted_salary)\n",
        "r2"
      ]
    },
    {
      "cell_type": "code",
      "execution_count": null,
      "metadata": {
        "id": "BhGWyaZLJMYg"
      },
      "outputs": [],
      "source": [
        "rf_results = predicted_salary.toPandas()"
      ]
    },
    {
      "cell_type": "code",
      "execution_count": null,
      "metadata": {
        "colab": {
          "background_save": true
        },
        "id": "vK4BCOcdFan9",
        "outputId": "0bb89513-bf1b-4333-a048-e4aeca442241"
      },
      "outputs": [
        {
          "data": {
            "image/png": "[encoded data removed]",
            "text/plain": [
              "<Figure size 432x288 with 1 Axes>"
            ]
          },
          "metadata": {},
          "output_type": "display_data"
        }
      ],
      "source": [
        "sns.scatterplot(x='salary', y='prediction', data=rf_results, color='blue')\n",
        "plt.plot([0, 300], [0, 300])\n",
        "plt.axis([0, 300, 0, 300])\n",
        "plt.xlabel('Actual Salary')\n",
        "plt.ylabel('Predicted Salary')\n",
        "plt.suptitle(\"RMSE: {:.2f} k$ R2: {:.2f} %\".format(rmse, r2*100))\n",
        "plt.title('Actual Salary VS Predicted Salary')\n",
        "plt.show()"
      ]
    },
    {
      "cell_type": "code",
      "execution_count": null,
      "metadata": {
        "id": "mP-nooVyFy6p"
      },
      "outputs": [],
      "source": [
        "print(\"RMSE: {:.2f} k$ \\nR2: {:.2f} %\".format(rmse, r2*100))"
      ]
    },
    {
      "cell_type": "code",
      "execution_count": null,
      "metadata": {
        "id": "3SFMNQzpF6C3"
      },
      "outputs": [],
      "source": [
        "spark_session.stop()"
      ]
    },
    {
      "cell_type": "code",
      "execution_count": null,
      "metadata": {
        "id": "SRU-jsHSGATv"
      },
      "outputs": [],
      "source": []
    }
  ],
  "metadata": {
    "colab": {
      "provenance": []
    },
    "kernelspec": {
      "display_name": "Python 3",
      "name": "python3"
    },
    "language_info": {
      "name": "python"
    }
  },
  "nbformat": 4,
  "nbformat_minor": 0
}