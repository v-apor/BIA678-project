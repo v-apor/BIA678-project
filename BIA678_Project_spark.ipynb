{
  "nbformat": 4,
  "nbformat_minor": 0,
  "metadata": {
    "colab": {
      "provenance": []
    },
    "kernelspec": {
      "name": "python3",
      "display_name": "Python 3"
    },
    "language_info": {
      "name": "python"
    }
  },
  "cells": [
    {
      "cell_type": "code",
      "execution_count": null,
      "metadata": {
        "colab": {
          "base_uri": "https://localhost:8080/"
        },
        "id": "p5uU2BGcVnug",
        "outputId": "e3d8dd82-4c39-4398-8eb4-4eac3a498d26"
      },
      "outputs": [
        {
          "output_type": "stream",
          "name": "stdout",
          "text": [
            "Looking in indexes: https://pypi.org/simple, https://us-python.pkg.dev/colab-wheels/public/simple/\n",
            "Requirement already satisfied: pyspark in /usr/local/lib/python3.7/dist-packages (3.3.1)\n",
            "Requirement already satisfied: py4j==0.10.9.5 in /usr/local/lib/python3.7/dist-packages (from pyspark) (0.10.9.5)\n"
          ]
        }
      ],
      "source": [
        "!pip install pyspark"
      ]
    },
    {
      "cell_type": "markdown",
      "source": [
        "### Libraries"
      ],
      "metadata": {
        "id": "LwdQr867YzQl"
      }
    },
    {
      "cell_type": "code",
      "source": [
        "from pyspark import SparkContext\n",
        "from pyspark.sql import SparkSession\n",
        "from pyspark.sql import SQLContext\n",
        "\n",
        "# For Encoding\n",
        "from pyspark.ml.feature import VectorAssembler, StringIndexer\n",
        "from pyspark.ml.feature import OneHotEncoder\n",
        "from pyspark.ml import Pipeline\n",
        "\n",
        "# Boosting\n",
        "from pyspark.ml.regression import GBTRegressor\n",
        "\n",
        "# Evaluation\n",
        "from pyspark.ml.evaluation import RegressionEvaluator "
      ],
      "metadata": {
        "id": "8mkq-ruKYXTc"
      },
      "execution_count": null,
      "outputs": []
    },
    {
      "cell_type": "markdown",
      "source": [
        "### Initializing Spark"
      ],
      "metadata": {
        "id": "hb6SIAPVaTLY"
      }
    },
    {
      "cell_type": "code",
      "source": [
        "spark_context = SparkContext(appName=\"BIA678_D3\")\n",
        "spark_context"
      ],
      "metadata": {
        "colab": {
          "base_uri": "https://localhost:8080/",
          "height": 193
        },
        "id": "7Y5tqp2JaSUI",
        "outputId": "4c685c0a-e0fe-4358-a1d2-5d53162ccbf5"
      },
      "execution_count": null,
      "outputs": [
        {
          "output_type": "execute_result",
          "data": {
            "text/plain": [
              "<SparkContext master=local[*] appName=BIA678_D3>"
            ],
            "text/html": [
              "\n",
              "        <div>\n",
              "            <p><b>SparkContext</b></p>\n",
              "\n",
              "            <p><a href=\"http://cc69c57f2964:4040\">Spark UI</a></p>\n",
              "\n",
              "            <dl>\n",
              "              <dt>Version</dt>\n",
              "                <dd><code>v3.3.1</code></dd>\n",
              "              <dt>Master</dt>\n",
              "                <dd><code>local[*]</code></dd>\n",
              "              <dt>AppName</dt>\n",
              "                <dd><code>BIA678_D3</code></dd>\n",
              "            </dl>\n",
              "        </div>\n",
              "        "
            ]
          },
          "metadata": {},
          "execution_count": 3
        }
      ]
    },
    {
      "cell_type": "code",
      "source": [
        "spark_session = SparkSession(spark_context)\n",
        "spark_session"
      ],
      "metadata": {
        "colab": {
          "base_uri": "https://localhost:8080/",
          "height": 216
        },
        "id": "Tc1YKHpOax6G",
        "outputId": "8fadcd26-5dd3-4390-a428-ee273cc911a6"
      },
      "execution_count": null,
      "outputs": [
        {
          "output_type": "execute_result",
          "data": {
            "text/plain": [
              "<pyspark.sql.session.SparkSession at 0x7fab2827b1d0>"
            ],
            "text/html": [
              "\n",
              "            <div>\n",
              "                <p><b>SparkSession - in-memory</b></p>\n",
              "                \n",
              "        <div>\n",
              "            <p><b>SparkContext</b></p>\n",
              "\n",
              "            <p><a href=\"http://cc69c57f2964:4040\">Spark UI</a></p>\n",
              "\n",
              "            <dl>\n",
              "              <dt>Version</dt>\n",
              "                <dd><code>v3.3.1</code></dd>\n",
              "              <dt>Master</dt>\n",
              "                <dd><code>local[*]</code></dd>\n",
              "              <dt>AppName</dt>\n",
              "                <dd><code>BIA678_D3</code></dd>\n",
              "            </dl>\n",
              "        </div>\n",
              "        \n",
              "            </div>\n",
              "        "
            ]
          },
          "metadata": {},
          "execution_count": 4
        }
      ]
    },
    {
      "cell_type": "code",
      "source": [
        "sql_context = SQLContext(spark_session.sparkContext)\n",
        "sql_context"
      ],
      "metadata": {
        "colab": {
          "base_uri": "https://localhost:8080/"
        },
        "id": "UJw1OL0_chT-",
        "outputId": "0bf87b17-28da-4c08-e0e1-51c702fe2bd0"
      },
      "execution_count": null,
      "outputs": [
        {
          "output_type": "stream",
          "name": "stderr",
          "text": [
            "/usr/local/lib/python3.7/dist-packages/pyspark/sql/context.py:114: FutureWarning: Deprecated in 3.0.0. Use SparkSession.builder.getOrCreate() instead.\n",
            "  FutureWarning,\n"
          ]
        },
        {
          "output_type": "execute_result",
          "data": {
            "text/plain": [
              "<pyspark.sql.context.SQLContext at 0x7fab279fe290>"
            ]
          },
          "metadata": {},
          "execution_count": 5
        }
      ]
    },
    {
      "cell_type": "markdown",
      "source": [
        "### Loading Datasets"
      ],
      "metadata": {
        "id": "EzFiPqgMdj7L"
      }
    },
    {
      "cell_type": "code",
      "source": [
        "data_details = spark_session.read.csv(\"train_dataset.csv\", header=True)\n",
        "data_details.show(5)\n",
        "data_details.printSchema()"
      ],
      "metadata": {
        "colab": {
          "base_uri": "https://localhost:8080/"
        },
        "id": "Ps4rXUmedVdx",
        "outputId": "29ad56ae-24f4-4a86-a3da-e4dac576e6b3"
      },
      "execution_count": null,
      "outputs": [
        {
          "output_type": "stream",
          "name": "stdout",
          "text": [
            "+----------------+---------+--------------+-----------+---------+--------+---------------+-------------------+\n",
            "|           jobId|companyId|       jobType|     degree|    major|industry|yearsExperience|milesFromMetropolis|\n",
            "+----------------+---------+--------------+-----------+---------+--------+---------------+-------------------+\n",
            "|JOB1362684407687|   COMP37|           CFO|    MASTERS|     MATH|  HEALTH|             10|                 83|\n",
            "|JOB1362684407688|   COMP19|           CEO|HIGH_SCHOOL|     NONE|     WEB|              3|                 73|\n",
            "|JOB1362684407689|   COMP52|VICE_PRESIDENT|   DOCTORAL|  PHYSICS|  HEALTH|             10|                 38|\n",
            "|JOB1362684407690|   COMP38|       MANAGER|   DOCTORAL|CHEMISTRY|    AUTO|              8|                 17|\n",
            "|JOB1362684407691|    COMP7|VICE_PRESIDENT|  BACHELORS|  PHYSICS| FINANCE|              8|                 16|\n",
            "+----------------+---------+--------------+-----------+---------+--------+---------------+-------------------+\n",
            "only showing top 5 rows\n",
            "\n",
            "root\n",
            " |-- jobId: string (nullable = true)\n",
            " |-- companyId: string (nullable = true)\n",
            " |-- jobType: string (nullable = true)\n",
            " |-- degree: string (nullable = true)\n",
            " |-- major: string (nullable = true)\n",
            " |-- industry: string (nullable = true)\n",
            " |-- yearsExperience: string (nullable = true)\n",
            " |-- milesFromMetropolis: string (nullable = true)\n",
            "\n"
          ]
        }
      ]
    },
    {
      "cell_type": "code",
      "source": [
        "data_salaries = spark_session.read.csv(\"train_salaries.csv\", header=True)\n",
        "data_salaries.show(5)\n",
        "data_salaries.printSchema()"
      ],
      "metadata": {
        "colab": {
          "base_uri": "https://localhost:8080/"
        },
        "id": "h0sWUbNVeHyD",
        "outputId": "6c456d50-a821-4fd4-b295-9674217713b3"
      },
      "execution_count": null,
      "outputs": [
        {
          "output_type": "stream",
          "name": "stdout",
          "text": [
            "+----------------+------+\n",
            "|           jobId|salary|\n",
            "+----------------+------+\n",
            "|JOB1362684407687|   130|\n",
            "|JOB1362684407688|   101|\n",
            "|JOB1362684407689|   137|\n",
            "|JOB1362684407690|   142|\n",
            "|JOB1362684407691|   163|\n",
            "+----------------+------+\n",
            "only showing top 5 rows\n",
            "\n",
            "root\n",
            " |-- jobId: string (nullable = true)\n",
            " |-- salary: string (nullable = true)\n",
            "\n"
          ]
        }
      ]
    },
    {
      "cell_type": "code",
      "source": [
        "# As seen in the schema above, the columne: 'salary' from data_salaries, \n",
        "# 'yearsExperience' and 'milesFromMetropolis' from data_details are string.\n",
        "# These columns must be casted to numeric datatype\n",
        "\n",
        "data_salaries = data_salaries.withColumn(\"salary\", data_salaries.salary.cast('int'))\n",
        "data_salaries.printSchema()\n",
        "\n",
        "data_details = data_details.withColumn(\"yearsExperience\",data_details.yearsExperience.cast('int'))\n",
        "data_details = data_details.withColumn(\"milesFromMetropolis\",data_details.milesFromMetropolis.cast('int'))\n",
        "data_details.printSchema()"
      ],
      "metadata": {
        "colab": {
          "base_uri": "https://localhost:8080/"
        },
        "id": "rBTlMfZDfN91",
        "outputId": "9e4e3619-f342-4531-ab51-1ac8d9e78ac3"
      },
      "execution_count": null,
      "outputs": [
        {
          "output_type": "stream",
          "name": "stdout",
          "text": [
            "root\n",
            " |-- jobId: string (nullable = true)\n",
            " |-- salary: integer (nullable = true)\n",
            "\n",
            "root\n",
            " |-- jobId: string (nullable = true)\n",
            " |-- companyId: string (nullable = true)\n",
            " |-- jobType: string (nullable = true)\n",
            " |-- degree: string (nullable = true)\n",
            " |-- major: string (nullable = true)\n",
            " |-- industry: string (nullable = true)\n",
            " |-- yearsExperience: integer (nullable = true)\n",
            " |-- milesFromMetropolis: integer (nullable = true)\n",
            "\n"
          ]
        }
      ]
    },
    {
      "cell_type": "markdown",
      "source": [
        "### Merging the two pyspark dataframes"
      ],
      "metadata": {
        "id": "tn0e7VrspmOs"
      }
    },
    {
      "cell_type": "code",
      "source": [
        "print(\"Data Details Dataframe columns: \", data_details.columns)\n",
        "print(\"Data Salaries Dataframe columns: \", data_salaries.columns)"
      ],
      "metadata": {
        "colab": {
          "base_uri": "https://localhost:8080/"
        },
        "id": "X7EBcIQ9n6F6",
        "outputId": "729eb54d-b5d0-4932-a3d7-6fbfbd4a4fff"
      },
      "execution_count": null,
      "outputs": [
        {
          "output_type": "stream",
          "name": "stdout",
          "text": [
            "Data Details Dataframe columns:  ['jobId', 'companyId', 'jobType', 'degree', 'major', 'industry', 'yearsExperience', 'milesFromMetropolis']\n",
            "Data Salaries Dataframe columns:  ['jobId', 'salary']\n"
          ]
        }
      ]
    },
    {
      "cell_type": "code",
      "source": [
        "data = data_details.join(data_salaries, ['jobId'])"
      ],
      "metadata": {
        "id": "aWiVv3q5puh8"
      },
      "execution_count": null,
      "outputs": []
    },
    {
      "cell_type": "code",
      "source": [
        "data.show(5)"
      ],
      "metadata": {
        "colab": {
          "base_uri": "https://localhost:8080/"
        },
        "id": "s1o2j77GssMV",
        "outputId": "5e2b7848-0bba-49ee-99d6-44fc6576c6ca"
      },
      "execution_count": null,
      "outputs": [
        {
          "output_type": "stream",
          "name": "stdout",
          "text": [
            "+----------------+---------+-------+-----------+---------+---------+---------------+-------------------+------+\n",
            "|           jobId|companyId|jobType|     degree|    major| industry|yearsExperience|milesFromMetropolis|salary|\n",
            "+----------------+---------+-------+-----------+---------+---------+---------------+-------------------+------+\n",
            "|JOB1362684407687|   COMP37|    CFO|    MASTERS|     MATH|   HEALTH|             10|                 83|   130|\n",
            "|JOB1362684407688|   COMP19|    CEO|HIGH_SCHOOL|     NONE|      WEB|              3|                 73|   101|\n",
            "|JOB1362684407690|   COMP38|MANAGER|   DOCTORAL|CHEMISTRY|     AUTO|              8|                 17|   142|\n",
            "|JOB1362684407693|   COMP15|    CFO|       NONE|     NONE|   HEALTH|             23|                 24|   178|\n",
            "|JOB1362684407694|   COMP24| JUNIOR|  BACHELORS|CHEMISTRY|EDUCATION|              9|                 70|    73|\n",
            "+----------------+---------+-------+-----------+---------+---------+---------------+-------------------+------+\n",
            "only showing top 5 rows\n",
            "\n"
          ]
        }
      ]
    },
    {
      "cell_type": "markdown",
      "source": [
        "### Managing missing values"
      ],
      "metadata": {
        "id": "iP9YtaSAtd8P"
      }
    },
    {
      "cell_type": "code",
      "source": [
        "# As noticed, there are some 'NONE' values. We've to handle those.\n",
        "for column in data.columns:\n",
        "  print(f\"{column} column's total 'NONE' values: \", data.filter(data[column]=='NONE').count())"
      ],
      "metadata": {
        "colab": {
          "base_uri": "https://localhost:8080/"
        },
        "id": "4NQWCk1vs4rd",
        "outputId": "fdc1ea85-e8b8-4c2e-b2bd-863da9d83b89"
      },
      "execution_count": null,
      "outputs": [
        {
          "output_type": "stream",
          "name": "stdout",
          "text": [
            "jobId column's total 'NONE' values:  0\n",
            "companyId column's total 'NONE' values:  0\n",
            "jobType column's total 'NONE' values:  0\n",
            "degree column's total 'NONE' values:  236854\n",
            "major column's total 'NONE' values:  532355\n",
            "industry column's total 'NONE' values:  0\n",
            "yearsExperience column's total 'NONE' values:  0\n",
            "milesFromMetropolis column's total 'NONE' values:  0\n",
            "salary column's total 'NONE' values:  0\n"
          ]
        }
      ]
    },
    {
      "cell_type": "code",
      "source": [
        "# Dropping the rows with NONE values\n",
        "data = data.filter((data.degree!='NONE') & (data.major!='NONE'))"
      ],
      "metadata": {
        "id": "gXiNi71xyp6S"
      },
      "execution_count": null,
      "outputs": []
    },
    {
      "cell_type": "markdown",
      "source": [
        "### Dataset Insights"
      ],
      "metadata": {
        "id": "XhrDMhjE1MHc"
      }
    },
    {
      "cell_type": "code",
      "source": [
        "# Creating SparkSQL view to perform SQL queries.\n",
        "data.createOrReplaceTempView(\"data\")"
      ],
      "metadata": {
        "id": "ZZqn-hJg1zLG"
      },
      "execution_count": null,
      "outputs": []
    },
    {
      "cell_type": "markdown",
      "source": [
        "#### 1. Highest Paid Job"
      ],
      "metadata": {
        "id": "wgpWNA821XQI"
      }
    },
    {
      "cell_type": "code",
      "source": [
        "spark_session.sql('''\n",
        "    SELECT salary, jobtype\n",
        "    FROM data\n",
        "    WHERE salary == (SELECT MAX(salary) FROM data)''').show()"
      ],
      "metadata": {
        "colab": {
          "base_uri": "https://localhost:8080/"
        },
        "id": "Gwcq_k5s03qr",
        "outputId": "48738b3c-09c9-4249-a8ad-dd1d9270ea1f"
      },
      "execution_count": null,
      "outputs": [
        {
          "output_type": "stream",
          "name": "stdout",
          "text": [
            "+------+-------+\n",
            "|salary|jobtype|\n",
            "+------+-------+\n",
            "|   301|    CFO|\n",
            "|   301|    CTO|\n",
            "+------+-------+\n",
            "\n"
          ]
        }
      ]
    },
    {
      "cell_type": "markdown",
      "source": [
        "The highset paid job is for the position of CFO and CTO, having salary of $301,000 per year."
      ],
      "metadata": {
        "id": "LKJao2lJ2bAr"
      }
    },
    {
      "cell_type": "markdown",
      "source": [
        "#### 2. Top 10 Highest Paying Jobs"
      ],
      "metadata": {
        "id": "n6tkRmrh3F9-"
      }
    },
    {
      "cell_type": "code",
      "source": [
        "print(\"Top 10 Highest paying job:\\n\")\n",
        "spark_session.sql('''\n",
        "          SELECT salary, jobtype, industry\n",
        "          FROM data\n",
        "          ORDER BY salary DESC\n",
        "          LIMIT 10''').show()"
      ],
      "metadata": {
        "colab": {
          "base_uri": "https://localhost:8080/"
        },
        "id": "U927DHrX2ODz",
        "outputId": "a7b51c05-b1e4-4293-fd70-de6b2b2815ff"
      },
      "execution_count": null,
      "outputs": [
        {
          "output_type": "stream",
          "name": "stdout",
          "text": [
            "Top 10 Highest paying job:\n",
            "\n",
            "+------+-------+--------+\n",
            "|salary|jobtype|industry|\n",
            "+------+-------+--------+\n",
            "|   301|    CFO|     OIL|\n",
            "|   301|    CTO|     OIL|\n",
            "|   298|    CEO|     OIL|\n",
            "|   294|    CEO| FINANCE|\n",
            "|   294|    CEO|     OIL|\n",
            "|   293|    CEO| FINANCE|\n",
            "|   293|    CEO|     OIL|\n",
            "|   292|    CTO| FINANCE|\n",
            "|   292|    CEO| FINANCE|\n",
            "|   290|    CEO|     WEB|\n",
            "+------+-------+--------+\n",
            "\n"
          ]
        }
      ]
    },
    {
      "cell_type": "markdown",
      "source": [
        "#### 3. Top 10 Lowest Paying Jobs"
      ],
      "metadata": {
        "id": "LlC_GNbrAo7y"
      }
    },
    {
      "cell_type": "code",
      "source": [
        "print(\"Top 10 Least paying job:\\n\")\n",
        "spark_session.sql('''\n",
        "          SELECT salary, jobtype, industry\n",
        "          FROM data\n",
        "          WHERE salary != 0\n",
        "          ORDER BY salary ASC\n",
        "          LIMIT 10''').show()"
      ],
      "metadata": {
        "colab": {
          "base_uri": "https://localhost:8080/"
        },
        "id": "WboU-K8S3kxV",
        "outputId": "e748d57f-211d-4a66-bfb2-e29dd90ef9f2"
      },
      "execution_count": null,
      "outputs": [
        {
          "output_type": "stream",
          "name": "stdout",
          "text": [
            "Top 10 Least paying job:\n",
            "\n",
            "+------+-------+---------+\n",
            "|salary|jobtype| industry|\n",
            "+------+-------+---------+\n",
            "|    35| JUNIOR|EDUCATION|\n",
            "|    37| JUNIOR|  SERVICE|\n",
            "|    37| JUNIOR|  SERVICE|\n",
            "|    38| JUNIOR|EDUCATION|\n",
            "|    38| JUNIOR|  SERVICE|\n",
            "|    39| JUNIOR|EDUCATION|\n",
            "|    40| JUNIOR|EDUCATION|\n",
            "|    40| JUNIOR|EDUCATION|\n",
            "|    40| JUNIOR|EDUCATION|\n",
            "|    40| JUNIOR|  SERVICE|\n",
            "+------+-------+---------+\n",
            "\n"
          ]
        }
      ]
    },
    {
      "cell_type": "markdown",
      "source": [
        "#### 4. Ranking industries based on highest average salaries."
      ],
      "metadata": {
        "id": "OCS4BAEr6tY-"
      }
    },
    {
      "cell_type": "code",
      "source": [
        "spark_session.sql('''\n",
        "          SELECT industry, AVG(salary) as average_salary\n",
        "          FROM data\n",
        "          GROUP BY industry\n",
        "          ORDER BY average_salary DESC''').show()"
      ],
      "metadata": {
        "colab": {
          "base_uri": "https://localhost:8080/"
        },
        "id": "6EmV-Qgg54xx",
        "outputId": "3c219518-b645-4979-eaf9-23060c2a1795"
      },
      "execution_count": null,
      "outputs": [
        {
          "output_type": "stream",
          "name": "stdout",
          "text": [
            "+---------+------------------+\n",
            "| industry|    average_salary|\n",
            "+---------+------------------+\n",
            "|      OIL| 146.8513955582233|\n",
            "|  FINANCE|146.39576890323158|\n",
            "|      WEB| 138.4103885627213|\n",
            "|   HEALTH|131.36158099222953|\n",
            "|     AUTO|123.86654947412329|\n",
            "|  SERVICE|  118.948209747515|\n",
            "|EDUCATION|113.92040607917342|\n",
            "+---------+------------------+\n",
            "\n"
          ]
        }
      ]
    },
    {
      "cell_type": "markdown",
      "source": [
        "#### 5. Finding corelation between years of experience and salary."
      ],
      "metadata": {
        "id": "QQ2PD2K27fcs"
      }
    },
    {
      "cell_type": "code",
      "source": [
        "spark_session.sql('''\n",
        "    SELECT salary, jobtype, industry, yearsExperience\n",
        "    FROM data\n",
        "    ORDER BY salary DESC\n",
        "    ''').show()"
      ],
      "metadata": {
        "colab": {
          "base_uri": "https://localhost:8080/"
        },
        "id": "xw_Sea0S7Ik1",
        "outputId": "18c50434-5cb9-44ed-f0f6-481031c1e80b"
      },
      "execution_count": null,
      "outputs": [
        {
          "output_type": "stream",
          "name": "stdout",
          "text": [
            "+------+-------+--------+---------------+\n",
            "|salary|jobtype|industry|yearsExperience|\n",
            "+------+-------+--------+---------------+\n",
            "|   301|    CFO|     OIL|             23|\n",
            "|   301|    CTO|     OIL|             24|\n",
            "|   298|    CEO|     OIL|             22|\n",
            "|   294|    CEO| FINANCE|             24|\n",
            "|   294|    CEO|     OIL|             19|\n",
            "|   293|    CEO|     OIL|             24|\n",
            "|   293|    CEO| FINANCE|             16|\n",
            "|   292|    CEO| FINANCE|             22|\n",
            "|   292|    CTO| FINANCE|             24|\n",
            "|   290|    CEO|     WEB|             20|\n",
            "|   289|    CTO|     WEB|             24|\n",
            "|   289|    CFO|     OIL|             23|\n",
            "|   289|    CEO| FINANCE|             23|\n",
            "|   288|    CFO| FINANCE|             24|\n",
            "|   288|    CFO| FINANCE|             21|\n",
            "|   287|    CEO| FINANCE|             19|\n",
            "|   287|    CEO|     OIL|             22|\n",
            "|   286|    CTO| FINANCE|             24|\n",
            "|   286|    CEO|     OIL|             16|\n",
            "|   286|    CEO| FINANCE|             24|\n",
            "+------+-------+--------+---------------+\n",
            "only showing top 20 rows\n",
            "\n"
          ]
        }
      ]
    },
    {
      "cell_type": "markdown",
      "source": [
        "#### 6. Finding corelation between degree and salary. | NEEDS GRAPH"
      ],
      "metadata": {
        "id": "QnBrrEn_8bqG"
      }
    },
    {
      "cell_type": "code",
      "source": [
        "spark_session.sql('''\n",
        "                  SELECT degree, salary, jobtype\n",
        "                  FROM data\n",
        "                  WHERE salary != 0\n",
        "                  ORDER BY salary\n",
        "                  ''').show(10)"
      ],
      "metadata": {
        "colab": {
          "base_uri": "https://localhost:8080/"
        },
        "id": "U7DOsp-C8h9W",
        "outputId": "8738f5c0-ec31-4f5d-f7e2-bbd3f0de2198"
      },
      "execution_count": null,
      "outputs": [
        {
          "output_type": "stream",
          "name": "stdout",
          "text": [
            "+---------+------+-------+\n",
            "|   degree|salary|jobtype|\n",
            "+---------+------+-------+\n",
            "|BACHELORS|    35| JUNIOR|\n",
            "|BACHELORS|    37| JUNIOR|\n",
            "|BACHELORS|    37| JUNIOR|\n",
            "|BACHELORS|    38| JUNIOR|\n",
            "|BACHELORS|    38| JUNIOR|\n",
            "|BACHELORS|    39| JUNIOR|\n",
            "|BACHELORS|    40| JUNIOR|\n",
            "|BACHELORS|    40| JUNIOR|\n",
            "|BACHELORS|    40| JUNIOR|\n",
            "|BACHELORS|    40| JUNIOR|\n",
            "+---------+------+-------+\n",
            "only showing top 10 rows\n",
            "\n"
          ]
        }
      ]
    },
    {
      "cell_type": "markdown",
      "source": [
        "#### 7. Finding corelation between major and salary. | NEEDS GRAPH"
      ],
      "metadata": {
        "id": "55LTv6ZDAAtx"
      }
    },
    {
      "cell_type": "code",
      "source": [
        "# ADD CODE HERE"
      ],
      "metadata": {
        "id": "htR3377F8oHv"
      },
      "execution_count": null,
      "outputs": []
    },
    {
      "cell_type": "code",
      "source": [],
      "metadata": {
        "id": "UbLNURVbAb-p"
      },
      "execution_count": null,
      "outputs": []
    },
    {
      "cell_type": "markdown",
      "source": [
        "### Predicting Salaries | ML"
      ],
      "metadata": {
        "id": "1WAC1_gPA7e3"
      }
    },
    {
      "cell_type": "code",
      "source": [
        "data.show(5)"
      ],
      "metadata": {
        "colab": {
          "base_uri": "https://localhost:8080/"
        },
        "id": "VVr4zVxHBEdK",
        "outputId": "6793b1d6-c12d-4c7e-91bf-10ab7baa316f"
      },
      "execution_count": null,
      "outputs": [
        {
          "output_type": "stream",
          "name": "stdout",
          "text": [
            "+----------------+---------+--------------+---------+---------+---------+---------------+-------------------+------+\n",
            "|           jobId|companyId|       jobType|   degree|    major| industry|yearsExperience|milesFromMetropolis|salary|\n",
            "+----------------+---------+--------------+---------+---------+---------+---------------+-------------------+------+\n",
            "|JOB1362684407687|   COMP37|           CFO|  MASTERS|     MATH|   HEALTH|             10|                 83|   130|\n",
            "|JOB1362684407690|   COMP38|       MANAGER| DOCTORAL|CHEMISTRY|     AUTO|              8|                 17|   142|\n",
            "|JOB1362684407694|   COMP24|        JUNIOR|BACHELORS|CHEMISTRY|EDUCATION|              9|                 70|    73|\n",
            "|JOB1362684407696|   COMP41|VICE_PRESIDENT|BACHELORS|CHEMISTRY|     AUTO|             17|                 68|   104|\n",
            "|JOB1362684407700|   COMP54|        JUNIOR|  MASTERS|     MATH|  FINANCE|             21|                 26|   193|\n",
            "+----------------+---------+--------------+---------+---------+---------+---------------+-------------------+------+\n",
            "only showing top 5 rows\n",
            "\n"
          ]
        }
      ]
    },
    {
      "cell_type": "code",
      "source": [
        "data = data.drop('jobId')"
      ],
      "metadata": {
        "id": "FR84FSYyBHZx"
      },
      "execution_count": null,
      "outputs": []
    },
    {
      "cell_type": "code",
      "source": [
        "columns = data.columns"
      ],
      "metadata": {
        "id": "LlZcebP4Bj2y"
      },
      "execution_count": null,
      "outputs": []
    },
    {
      "cell_type": "code",
      "source": [
        "# Encoding labels for columns representing class.\n",
        "class_columns = [\"companyId\",\"jobType\", \"degree\", \"major\", \"industry\"]\n",
        "stages = []\n",
        "for categoricalCol in class_columns:\n",
        "    stringIndexer = StringIndexer(inputCol = categoricalCol, outputCol = categoricalCol + 'Index')\n",
        "    stages += [stringIndexer]\n",
        "numericCols =  [\"yearsExperience\", \"milesFromMetropolis\"]\n",
        "assemblerInputs = [c + \"Index\" for c in class_columns] + numericCols\n",
        "assembler = VectorAssembler(inputCols=assemblerInputs, outputCol=\"features\")\n",
        "stages += [assembler]"
      ],
      "metadata": {
        "id": "hdOWKdQyBtRU"
      },
      "execution_count": null,
      "outputs": []
    },
    {
      "cell_type": "code",
      "source": [
        "stages = []\n",
        "stringIndexer = StringIndexer(inputCol = \"degree\", outputCol = \"degreeIndex\")\n",
        "stages += [stringIndexer]"
      ],
      "metadata": {
        "id": "z-UoiJ6pB_zH"
      },
      "execution_count": null,
      "outputs": []
    },
    {
      "cell_type": "code",
      "source": [
        "# One Hot Encoding\n",
        "class_columns = [\"companyId\",\"jobType\", \"major\", \"industry\"]\n",
        "for categoricalCol in class_columns:\n",
        "    stringIndexer = StringIndexer(inputCol = categoricalCol, outputCol = categoricalCol + 'Index')\n",
        "    encoder = OneHotEncoder(inputCols=[stringIndexer.getOutputCol()], outputCols=[categoricalCol + \"classVec\"])\n",
        "    stages += [stringIndexer, encoder]\n",
        "numericCols =  [\"yearsExperience\", \"milesFromMetropolis\"]\n",
        "assemblerInputs = [c + \"classVec\" for c in class_columns] + numericCols + [\"degreeIndex\"]\n",
        "assembler = VectorAssembler(inputCols=assemblerInputs, outputCol=\"features\")\n",
        "stages += [assembler]"
      ],
      "metadata": {
        "id": "IIJEej7IC4uO"
      },
      "execution_count": null,
      "outputs": []
    },
    {
      "cell_type": "code",
      "source": [
        "pipeline = Pipeline(stages = stages)\n",
        "pipelineModel = pipeline.fit(data)\n",
        "data = pipelineModel.transform(data)\n",
        "selectedCols = ['features'] + columns\n",
        "data = data.select(selectedCols)"
      ],
      "metadata": {
        "id": "vz9TzcSJDNu-"
      },
      "execution_count": null,
      "outputs": []
    },
    {
      "cell_type": "code",
      "source": [
        "data.show(1)"
      ],
      "metadata": {
        "colab": {
          "base_uri": "https://localhost:8080/"
        },
        "id": "PRKRkEYaDcjz",
        "outputId": "6571c389-b98e-4bcc-bde6-d1753ccd57d3"
      },
      "execution_count": null,
      "outputs": [
        {
          "output_type": "stream",
          "name": "stdout",
          "text": [
            "+--------------------+---------+-------+-------+-----+--------+---------------+-------------------+------+\n",
            "|            features|companyId|jobType| degree|major|industry|yearsExperience|milesFromMetropolis|salary|\n",
            "+--------------------+---------+-------+-------+-----+--------+---------------+-------------------+------+\n",
            "|(84,[61,78,81,82]...|   COMP37|    CFO|MASTERS| MATH|  HEALTH|             10|                 83|   130|\n",
            "+--------------------+---------+-------+-------+-----+--------+---------------+-------------------+------+\n",
            "only showing top 1 row\n",
            "\n"
          ]
        }
      ]
    },
    {
      "cell_type": "code",
      "source": [
        "# Splitting data into training and testing sets\n",
        "train, test = data.randomSplit([0.8, 0.2])"
      ],
      "metadata": {
        "id": "FJBp6L5gEQLE"
      },
      "execution_count": null,
      "outputs": []
    },
    {
      "cell_type": "code",
      "source": [
        "# Boosting\n",
        "gbt =  GBTRegressor(featuresCol=\"features\", labelCol=\"salary\", maxBins=20, maxDepth=12)"
      ],
      "metadata": {
        "id": "K4yzC_SnFuLb"
      },
      "execution_count": null,
      "outputs": []
    },
    {
      "cell_type": "code",
      "source": [
        "model = gbt.fit(train)"
      ],
      "metadata": {
        "id": "jjM3BUpVGAsu"
      },
      "execution_count": null,
      "outputs": []
    },
    {
      "cell_type": "code",
      "source": [
        "predicted_salary = model.transform(test)"
      ],
      "metadata": {
        "id": "tuC1JbUEGH4c"
      },
      "execution_count": null,
      "outputs": []
    },
    {
      "cell_type": "code",
      "source": [
        "# Evaluation Root Mean Squared\n",
        "evaluator = RegressionEvaluator(labelCol=\"salary\", predictionCol=\"prediction\", metricName=\"rmse\")\n",
        "rmse = evaluator.evaluate(predicted_salary)\n",
        "rmse"
      ],
      "metadata": {
        "colab": {
          "base_uri": "https://localhost:8080/"
        },
        "id": "zyLLKUOlHFOx",
        "outputId": "5b1a05be-7e79-4b11-c638-5ff170d82900"
      },
      "execution_count": null,
      "outputs": [
        {
          "output_type": "execute_result",
          "data": {
            "text/plain": [
              "21.592444756565165"
            ]
          },
          "metadata": {},
          "execution_count": 36
        }
      ]
    },
    {
      "cell_type": "code",
      "source": [
        "# Evaluation R squared\n",
        "evaluator = RegressionEvaluator(labelCol=\"salary\", predictionCol=\"prediction\", metricName=\"r2\")\n",
        "r2 = evaluator.evaluate(predicted_salary)\n",
        "r2"
      ],
      "metadata": {
        "colab": {
          "base_uri": "https://localhost:8080/"
        },
        "id": "MQXRj3Z2IkSw",
        "outputId": "9601c26b-8e89-48d0-8938-5b07c1c7354c"
      },
      "execution_count": null,
      "outputs": [
        {
          "output_type": "execute_result",
          "data": {
            "text/plain": [
              "0.6331882787408196"
            ]
          },
          "metadata": {},
          "execution_count": 37
        }
      ]
    },
    {
      "cell_type": "code",
      "source": [],
      "metadata": {
        "id": "BhGWyaZLJMYg"
      },
      "execution_count": null,
      "outputs": []
    }
  ]
}